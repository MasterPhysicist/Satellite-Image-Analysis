{
 "cells": [
  {
   "cell_type": "code",
   "execution_count": 1,
   "metadata": {},
   "outputs": [],
   "source": [
    "import rasterio\n",
    "import numpy as np\n",
    "import matplotlib.pyplot as plt\n",
    "import geopandas as gpd\n",
    "import pandas as pd\n",
    "import earthpy as et\n",
    "import glob\n",
    "import os\n",
    "import pickle # Loads and saves ML models\n",
    "from shapely.geometry import mapping\n",
    "from rasterio.mask import mask\n",
    "import earthpy.mask as em\n",
    "from skimage import exposure\n",
    "from rasterio.plot import show\n",
    "import math\n",
    "from xml.dom import minidom"
   ]
  },
  {
   "cell_type": "code",
   "execution_count": 2,
   "metadata": {},
   "outputs": [
    {
     "data": {
      "text/plain": [
       "'/home/emmanuel/Desktop/BIg data Summer schoo/Gaulunia_2017/GauluniaD_P1/GauluniaD_P1EVI.txt'"
      ]
     },
     "execution_count": 2,
     "metadata": {},
     "output_type": "execute_result"
    }
   ],
   "source": [
    "shapefile_path =  glob.glob('/home/emmanuel/Desktop/BIg data Summer schoo/Gaulunia_2017/GauluniaD_P1/*shp')\n",
    "rasters_path = '/media/emmanuel/Transcend/SOYBEAN PROJECT/DATA COLLECTION/Gaulunia2017'\n",
    "try:\n",
    "    os.remove(shapefile_path[0][:-4] + 'NDVI.txt')\n",
    "    os.remove(shapefile_path[0][:-4] + 'EVI.txt')\n",
    "except:\n",
    "    pass\n",
    "\n",
    "shapefile_path[0][:-3] + 'txt'\n",
    "shapefile_path[0][70:-4]\n",
    "shapefile_path[0]\n",
    "shapefile_path[0][:-4] + 'EVI.txt'\n",
    "#/home/emmanuel/Desktop/BIg data Summer schoo/Syngenta_2018/Syngentap4/SyngentaP4EVI.txt"
   ]
  },
  {
   "cell_type": "code",
   "execution_count": 3,
   "metadata": {},
   "outputs": [],
   "source": [
    "shapefile = gpd.read_file(shapefile_path[0])\n"
   ]
  },
  {
   "cell_type": "code",
   "execution_count": 4,
   "metadata": {},
   "outputs": [],
   "source": [
    "def IndexCalc(array1, array2):\n",
    "    np.seterr(divide = 'ignore', invalid = 'ignore')\n",
    "    Index = (array1 - array2)/(array1 + array2)\n",
    "    return Index"
   ]
  },
  {
   "cell_type": "code",
   "execution_count": 6,
   "metadata": {},
   "outputs": [],
   "source": [
    "def IndexEVI(array1, array2, array3):\n",
    "    np.seterr(divide = 'ignore', invalid = 'ignore')\n",
    "    EVI = 2.5 * ((array1 - array2) / (array1 + 6 * array2 - 7.5 * array3 + 1))\n",
    "    return EVI"
   ]
  },
  {
   "cell_type": "code",
   "execution_count": 7,
   "metadata": {},
   "outputs": [],
   "source": [
    "def Final_Array_Cleaner(raster_array):\n",
    "    better_array  = np.where((raster_array <= 1) & (raster_array > 0), raster_array, np.nan)\n",
    "    return better_array"
   ]
  },
  {
   "cell_type": "code",
   "execution_count": 8,
   "metadata": {},
   "outputs": [],
   "source": [
    "def Array_Cleaner(raster_array):\n",
    "    better_array  = np.where((raster_array <= 1) & (raster_array >= 0), raster_array, 0.0)\n",
    "    return better_array"
   ]
  },
  {
   "cell_type": "code",
   "execution_count": 9,
   "metadata": {},
   "outputs": [],
   "source": [
    "def Index_Cleaneer(index_array):\n",
    "    Index_array = np.where((index_array <= 1) & (index_array >= -1), index_array, 0.0)\n",
    "    return Index_array"
   ]
  },
  {
   "cell_type": "code",
   "execution_count": 10,
   "metadata": {},
   "outputs": [],
   "source": [
    "PlanetscopeClassifier = pickle.load(open('PlanetScopeClassifier.sav', 'rb'))\n",
    "Landsat8Classifier = pickle.load(open('Landsat8_Classifier.sav', 'rb'))\n",
    "Sentinel2Classifier = pickle.load(open('Sentinel2Classifier.sav', 'rb'))"
   ]
  },
  {
   "cell_type": "code",
   "execution_count": 11,
   "metadata": {},
   "outputs": [],
   "source": [
    "def getFeatures(gdf):\n",
    "    '''Function to parse features from GeoDataFrame in such a manner that rasterio can take them'''\n",
    "    import json\n",
    "    return [json.loads(gdf.to_json())['features'][0]['geometry']]"
   ]
  },
  {
   "cell_type": "code",
   "execution_count": 12,
   "metadata": {},
   "outputs": [],
   "source": [
    "def allPixels(blue, green, red, nir, NDVI, NDWI):\n",
    "    all_df = pd.DataFrame()\n",
    "    df_ls = []\n",
    "    \n",
    "    df_ls.append(pd.DataFrame({'Blue_Band':blue.read(1).ravel(),\n",
    "                              'Green_Band':green.read(1).ravel(),\n",
    "                              'Red_Band':red.read(1).ravel(),\n",
    "                              'NIR_Band':nir.read(1).ravel(),\n",
    "                              'NDVI_Band':NDVI.read(1).ravel(),\n",
    "                              'NDWI_Band':NDWI.read(1).ravel()}))\n",
    "    all_df = pd.concat(df_ls, axis = 0)\n",
    "    return all_df"
   ]
  },
  {
   "cell_type": "code",
   "execution_count": 13,
   "metadata": {},
   "outputs": [],
   "source": [
    "def RefCoeffs(filename):\n",
    "    xmldoc = minidom.parse(filename[:-4] + '_metadata.xml')\n",
    "    nodes = xmldoc.getElementsByTagName(\"ps:bandSpecificMetadata\")\n",
    "    filename[:-4] + '_metadata.xml'\n",
    "    \n",
    "    nodes = xmldoc.getElementsByTagName(\"ps:bandSpecificMetadata\")\n",
    "\n",
    "    # XML parser refers to bands by numbers 1-4\n",
    "    coeffs = {}\n",
    "    for node in nodes:\n",
    "        bn = node.getElementsByTagName(\"ps:bandNumber\")[0].firstChild.data\n",
    "        if bn in ['1', '2', '3', '4']:\n",
    "            i = int(bn)\n",
    "            value = node.getElementsByTagName(\"ps:reflectanceCoefficient\")[0].firstChild.data\n",
    "            coeffs[i] = float(value)\n",
    "    return coeffs"
   ]
  },
  {
   "cell_type": "code",
   "execution_count": 14,
   "metadata": {},
   "outputs": [],
   "source": [
    "def allPixels1(blue, green, red, nir, NDVI, NDWI):\n",
    "    blue = Array_Cleaner(blue)\n",
    "    green = Array_Cleaner(green)\n",
    "    red = Array_Cleaner(red)\n",
    "    nir = Array_Cleaner(nir)\n",
    "    NDVI =  Index_Cleaneer(NDVI)\n",
    "    NDWI =  Index_Cleaneer(NDWI)\n",
    "    all_df = pd.DataFrame()\n",
    "    df_ls = []\n",
    "    \n",
    "    df_ls.append(pd.DataFrame({'Blue_Band':blue.ravel(),\n",
    "                              'Green_Band':green.ravel(),\n",
    "                              'Red_Band':red.ravel(),\n",
    "                              'NIR_Band':nir.ravel(),\n",
    "                              'NDVI_Band':NDVI.ravel(),\n",
    "                              'NDWI_Band':NDWI.ravel()}))\n",
    "    all_df = pd.concat(df_ls, axis = 0)\n",
    "    return all_df"
   ]
  },
  {
   "cell_type": "code",
   "execution_count": 15,
   "metadata": {},
   "outputs": [],
   "source": [
    "def CropRaster(shapefile, raster):\n",
    "    raster= rasterio.open(raster)\n",
    "    shapefile = gpd.read_file(shapefile)\n",
    "    shapefile = shapefile.to_crs(crs = raster.crs.data)\n",
    "    extent_geojson = mapping(shapefile['geometry'][0])\n",
    "\n",
    "    raster_crop, crop_affine = mask(raster, shapes = [extent_geojson], crop = True)\n",
    "    raster_meta = raster.meta.copy()\n",
    "    raster_meta.update({'driver': 'GTiff', 'height':raster_crop.shape[1],\n",
    "                        'width':raster_crop.shape[2], 'transform':crop_affine})\n",
    "    cr_ext = rasterio.transform.array_bounds(raster_meta['height'],\n",
    "                                             raster_meta['width'], raster_meta['transform'])\n",
    "    bound_order = [0]\n",
    "    cr_extent = [cr_ext[b] for b in bound_order]\n",
    "    cropedraster = raster_crop[0] \n",
    "   \n",
    "    return cropedraster"
   ]
  },
  {
   "cell_type": "code",
   "execution_count": 16,
   "metadata": {},
   "outputs": [],
   "source": [
    "def WriteTofile(date, shapefile_path, Ave_NDVI, Ave_EVI):\n",
    "    month = date[4:6]\n",
    "    date = date[6:8]\n",
    "    if int(month) == 11:\n",
    "        date = int(date) - 9\n",
    "    elif int(month) == 12:\n",
    "        date = 11 + int(date)\n",
    "    elif int(month) == 1:\n",
    "        date = 42 + int(date)\n",
    "    elif int(month) == 2:\n",
    "        date = 73 + int(date)\n",
    "    elif int(month) == 3:\n",
    "        date = 101 + int(date)\n",
    "    elif int(month) == 4:\n",
    "        date = 132 + int(date)\n",
    "    elif int(month) == 5:\n",
    "        date = 162 + int(date)\n",
    "    datafile = shapefile_path[0][:-4] + 'NDVI.txt'\n",
    "    datafile2 = shapefile_path[0][:-4] + 'EVI.txt'\n",
    "    f = open(datafile, 'a+')\n",
    "    f2 = open(datafile2, 'a+')\n",
    "    yes = os.stat(datafile).st_size  == 0\n",
    "    yes = os.stat(datafile2).st_size == 0\n",
    "    if yes is False:\n",
    "        f.write(str(date) + '        ' + str(Ave_NDVI) + '\\n')\n",
    "        f2.write(str(date) + '        ' + str(Ave_EVI) + '\\n')\n",
    "    else:\n",
    "        f.write('Date           Average_NDVI\\n')\n",
    "        f2.write('Date          Average_EVI\\n')\n",
    "        f.write(str(date) + '        ' + str(Ave_NDVI) + '\\n')\n",
    "        f2.write(str(date) + '        ' + str(Ave_EVI) + '\\n')\n",
    "    f.close()"
   ]
  },
  {
   "cell_type": "code",
   "execution_count": 31,
   "metadata": {
    "scrolled": false
   },
   "outputs": [
    {
     "name": "stdout",
     "output_type": "stream",
     "text": [
      "start\n"
     ]
    },
    {
     "name": "stderr",
     "output_type": "stream",
     "text": [
      "/home/emmanuel/anaconda3/lib/python3.7/site-packages/ipykernel_launcher.py:52: RuntimeWarning: Mean of empty slice\n",
      "/home/emmanuel/anaconda3/lib/python3.7/site-packages/ipykernel_launcher.py:53: RuntimeWarning: Mean of empty slice\n",
      "/home/emmanuel/anaconda3/lib/python3.7/site-packages/ipykernel_launcher.py:52: RuntimeWarning: Mean of empty slice\n",
      "/home/emmanuel/anaconda3/lib/python3.7/site-packages/ipykernel_launcher.py:53: RuntimeWarning: Mean of empty slice\n",
      "/home/emmanuel/anaconda3/lib/python3.7/site-packages/ipykernel_launcher.py:52: RuntimeWarning: Mean of empty slice\n",
      "/home/emmanuel/anaconda3/lib/python3.7/site-packages/ipykernel_launcher.py:53: RuntimeWarning: Mean of empty slice\n"
     ]
    },
    {
     "name": "stdout",
     "output_type": "stream",
     "text": [
      "20170125 0.6845197284380944\n",
      "20170214 0.8764422194919583\n"
     ]
    },
    {
     "name": "stderr",
     "output_type": "stream",
     "text": [
      "/home/emmanuel/anaconda3/lib/python3.7/site-packages/ipykernel_launcher.py:52: RuntimeWarning: Mean of empty slice\n",
      "/home/emmanuel/anaconda3/lib/python3.7/site-packages/ipykernel_launcher.py:53: RuntimeWarning: Mean of empty slice\n"
     ]
    },
    {
     "name": "stdout",
     "output_type": "stream",
     "text": [
      "20170306 0.6457136774568485\n",
      "20170316 0.8279411887682886\n",
      "20170326 0.47200317451041884\n"
     ]
    },
    {
     "name": "stderr",
     "output_type": "stream",
     "text": [
      "/home/emmanuel/anaconda3/lib/python3.7/site-packages/ipykernel_launcher.py:52: RuntimeWarning: Mean of empty slice\n",
      "/home/emmanuel/anaconda3/lib/python3.7/site-packages/ipykernel_launcher.py:53: RuntimeWarning: Mean of empty slice\n",
      "/home/emmanuel/anaconda3/lib/python3.7/site-packages/ipykernel_launcher.py:52: RuntimeWarning: Mean of empty slice\n",
      "/home/emmanuel/anaconda3/lib/python3.7/site-packages/ipykernel_launcher.py:53: RuntimeWarning: Mean of empty slice\n",
      "/home/emmanuel/anaconda3/lib/python3.7/site-packages/ipykernel_launcher.py:52: RuntimeWarning: Mean of empty slice\n",
      "/home/emmanuel/anaconda3/lib/python3.7/site-packages/ipykernel_launcher.py:53: RuntimeWarning: Mean of empty slice\n"
     ]
    },
    {
     "name": "stdout",
     "output_type": "stream",
     "text": [
      "20170505 0.22528326954239017\n"
     ]
    }
   ],
   "source": [
    "# Analysing Sentinel 2 Rasters\n",
    "dateblue = 4\n",
    "dategreen = 90\n",
    "datered = 76\n",
    "datenir = 92\n",
    "print('start')\n",
    "for subdir, dirs, files in os.walk(rasters_path):  # For loop that finds rasters according to the band\n",
    "    for file in files:\n",
    "        #try:\n",
    "        if file.endswith('B02.tif'): #\n",
    "            dateblue = file[10:18]\n",
    "            blue = os.path.join(subdir,file)\n",
    "        if file.endswith('B03.tif'):\n",
    "            dategreen = file[10:18]\n",
    "            green = os.path.join(subdir,file)\n",
    "        if file.endswith('B04.tif'):\n",
    "            datered = file[10:18]\n",
    "            red = os.path.join(subdir, file)\n",
    "        if file.endswith('B08.tif'):\n",
    "            datenir = file[10:18] \n",
    "            nir = os.path.join(subdir, file)\n",
    "        if dateblue == dategreen  and dategreen == datered and datered == datenir:\n",
    "            try:\n",
    "                blue_crop =  CropRaster(shapefile_path[0], blue)\n",
    "                green_crop =  CropRaster(shapefile_path[0], green)\n",
    "                red_crop =  CropRaster(shapefile_path[0], red)\n",
    "                nir_crop =  CropRaster(shapefile_path[0], nir)\n",
    "\n",
    "\n",
    "                NDVI_crop = IndexCalc(nir_crop, red_crop)\n",
    "                NDWI_crop = IndexCalc(green_crop, nir_crop)\n",
    "                if np.nanmean(blue_crop) != 0.0 and np.nanmean(NDVI_crop) != 0.0:\n",
    "                    #print(dateblue, dategreen, datered, datenir)\n",
    "                    rgb = np.dstack((red_crop, green_crop, blue_crop))\n",
    "                    better_rgb = exposure.rescale_intensity(rgb, in_range=(0, 0.25))\n",
    "                    cdf = allPixels1(blue_crop, green_crop, red_crop, nir_crop, NDVI_crop, NDWI_crop)\n",
    "\n",
    "                    img = cdf.iloc[:,:].values\n",
    "                    pred_class = Sentinel2Classifier.predict(img)\n",
    "                    landclass = pred_class.reshape(blue_crop.shape)\n",
    "                    landclass = np.array(landclass, dtype = float)\n",
    "                    l_class3 = landclass == 3\n",
    "                    l_class3 = l_class3.astype(np.float)\n",
    "                    nir_crop = nir_crop*l_class3\n",
    "                    red_crop = red_crop*l_class3\n",
    "\n",
    "                    nir_crop1 = Final_Array_Cleaner(nir_crop)\n",
    "                    red_crop1 = Final_Array_Cleaner(red_crop)\n",
    "                    blue_crop1 = Final_Array_Cleaner(blue_crop)\n",
    "                    NDVIcrop1 = IndexCalc(nir_crop1, red_crop1)\n",
    "                    EVIcrop1 = IndexEVI(nir_crop1, red_crop1, blue_crop1)\n",
    "                    Ave_NDVI = np.nanmean(NDVIcrop1)\n",
    "                    Ave_EVI = np.nanmean(EVIcrop1)\n",
    "                    \n",
    "#                     fig = plt.figure(figsize = (15, 15))\n",
    "#                     plt.imshow(better_rgb)\n",
    "#                     plt.savefig(shapefile_path[0][:-4]+ '_' + dateblue +  'T.png')\n",
    "#                     plt.close(fig)\n",
    "                \n",
    "                    if not math.isnan(Ave_NDVI):\n",
    "                        WriteTofile(dateblue, shapefile_path, Ave_NDVI, Ave_EVI)\n",
    "                        print(dateblue, Ave_NDVI)\n",
    "\n",
    "\n",
    "    #                     classes = ['Clouds','Shadows','Data']\n",
    "    #                     length = len(classes)\n",
    "    #                     fig = plt.figure(figsize=(15,15))\n",
    "    #                     cmap = plt.cm.get_cmap(\"Set1\", length)\n",
    "    #                     plt.imshow(landclass, cmap=cmap)\n",
    "    #                     ticks = np.arange(1, length + 1)\n",
    "    #                     colorbar = plt.colorbar(ticks = ticks, orientation=\"horizontal\")\n",
    "    #                     colorbar.set_ticklabels(classes)\n",
    "    #                     plt.savefig('Syngenta_2018/ClassifiedImage.png')\n",
    "    #                     plt.close(fig )\n",
    "\n",
    "                        fig = plt.figure(figsize = (20, 15))\n",
    "                        plt.rc('xtick', labelsize = 20)\n",
    "                        plt.rc('ytick', labelsize = 20)\n",
    "                        plt.subplot(221)\n",
    "                        plt.title('Sentinel NDVI\\n', fontsize = 20 , fontweight = 'bold')\n",
    "                        plt.imshow(NDVIcrop1, cmap = plt.cm.nipy_spectral)\n",
    "                        plt.subplot(222)\n",
    "                        plt.title('True Color Image\\n', fontsize = 20, fontweight = 'bold')\n",
    "                        plt.imshow(better_rgb)\n",
    "                        plt.savefig(shapefile_path[0][:-4]+ '_' + dateblue +  '.png')\n",
    "                        plt.close(fig)\n",
    "            except:\n",
    "                pass\n",
    "            #show(blue_crop)\n",
    "\n",
    "            dateblue = 8\n",
    "            dategreen = 6\n",
    "            datered = 98\n",
    "            datenir = 90"
   ]
  },
  {
   "cell_type": "code",
   "execution_count": 32,
   "metadata": {},
   "outputs": [
    {
     "name": "stdout",
     "output_type": "stream",
     "text": [
      "20161119 0.16491645348798634\n"
     ]
    },
    {
     "name": "stderr",
     "output_type": "stream",
     "text": [
      "/home/emmanuel/anaconda3/lib/python3.7/site-packages/ipykernel_launcher.py:53: RuntimeWarning: Mean of empty slice\n",
      "/home/emmanuel/anaconda3/lib/python3.7/site-packages/ipykernel_launcher.py:54: RuntimeWarning: Mean of empty slice\n",
      "/home/emmanuel/anaconda3/lib/python3.7/site-packages/ipykernel_launcher.py:53: RuntimeWarning: Mean of empty slice\n",
      "/home/emmanuel/anaconda3/lib/python3.7/site-packages/ipykernel_launcher.py:54: RuntimeWarning: Mean of empty slice\n",
      "/home/emmanuel/anaconda3/lib/python3.7/site-packages/ipykernel_launcher.py:53: RuntimeWarning: Mean of empty slice\n",
      "/home/emmanuel/anaconda3/lib/python3.7/site-packages/ipykernel_launcher.py:54: RuntimeWarning: Mean of empty slice\n",
      "/home/emmanuel/anaconda3/lib/python3.7/site-packages/ipykernel_launcher.py:53: RuntimeWarning: Mean of empty slice\n",
      "/home/emmanuel/anaconda3/lib/python3.7/site-packages/ipykernel_launcher.py:54: RuntimeWarning: Mean of empty slice\n",
      "/home/emmanuel/anaconda3/lib/python3.7/site-packages/ipykernel_launcher.py:53: RuntimeWarning: Mean of empty slice\n",
      "/home/emmanuel/anaconda3/lib/python3.7/site-packages/ipykernel_launcher.py:54: RuntimeWarning: Mean of empty slice\n",
      "/home/emmanuel/anaconda3/lib/python3.7/site-packages/ipykernel_launcher.py:53: RuntimeWarning: Mean of empty slice\n",
      "/home/emmanuel/anaconda3/lib/python3.7/site-packages/ipykernel_launcher.py:54: RuntimeWarning: Mean of empty slice\n"
     ]
    },
    {
     "name": "stdout",
     "output_type": "stream",
     "text": [
      "20170412 0.3274482590285143\n",
      "20170428 0.21261738502287508\n"
     ]
    },
    {
     "name": "stderr",
     "output_type": "stream",
     "text": [
      "/home/emmanuel/anaconda3/lib/python3.7/site-packages/ipykernel_launcher.py:53: RuntimeWarning: Mean of empty slice\n",
      "/home/emmanuel/anaconda3/lib/python3.7/site-packages/ipykernel_launcher.py:54: RuntimeWarning: Mean of empty slice\n"
     ]
    },
    {
     "name": "stdout",
     "output_type": "stream",
     "text": [
      "20161119 0.16916913208130313\n"
     ]
    },
    {
     "name": "stderr",
     "output_type": "stream",
     "text": [
      "/home/emmanuel/anaconda3/lib/python3.7/site-packages/ipykernel_launcher.py:53: RuntimeWarning: Mean of empty slice\n",
      "/home/emmanuel/anaconda3/lib/python3.7/site-packages/ipykernel_launcher.py:54: RuntimeWarning: Mean of empty slice\n",
      "/home/emmanuel/anaconda3/lib/python3.7/site-packages/ipykernel_launcher.py:53: RuntimeWarning: Mean of empty slice\n",
      "/home/emmanuel/anaconda3/lib/python3.7/site-packages/ipykernel_launcher.py:54: RuntimeWarning: Mean of empty slice\n",
      "/home/emmanuel/anaconda3/lib/python3.7/site-packages/ipykernel_launcher.py:53: RuntimeWarning: Mean of empty slice\n",
      "/home/emmanuel/anaconda3/lib/python3.7/site-packages/ipykernel_launcher.py:54: RuntimeWarning: Mean of empty slice\n",
      "/home/emmanuel/anaconda3/lib/python3.7/site-packages/ipykernel_launcher.py:53: RuntimeWarning: Mean of empty slice\n",
      "/home/emmanuel/anaconda3/lib/python3.7/site-packages/ipykernel_launcher.py:54: RuntimeWarning: Mean of empty slice\n",
      "/home/emmanuel/anaconda3/lib/python3.7/site-packages/ipykernel_launcher.py:53: RuntimeWarning: Mean of empty slice\n",
      "/home/emmanuel/anaconda3/lib/python3.7/site-packages/ipykernel_launcher.py:54: RuntimeWarning: Mean of empty slice\n",
      "/home/emmanuel/anaconda3/lib/python3.7/site-packages/ipykernel_launcher.py:53: RuntimeWarning: Mean of empty slice\n",
      "/home/emmanuel/anaconda3/lib/python3.7/site-packages/ipykernel_launcher.py:54: RuntimeWarning: Mean of empty slice\n"
     ]
    },
    {
     "name": "stdout",
     "output_type": "stream",
     "text": [
      "20170311 0.6884387576307264\n",
      "20170327 0.4850874588141406\n",
      "20170412 0.32288775344791976\n",
      "20170428 0.21513002364066192\n"
     ]
    },
    {
     "name": "stderr",
     "output_type": "stream",
     "text": [
      "/home/emmanuel/anaconda3/lib/python3.7/site-packages/ipykernel_launcher.py:53: RuntimeWarning: Mean of empty slice\n",
      "/home/emmanuel/anaconda3/lib/python3.7/site-packages/ipykernel_launcher.py:54: RuntimeWarning: Mean of empty slice\n"
     ]
    }
   ],
   "source": [
    "# Analysing Landsat 8 rasters\n",
    "dateblue = 4\n",
    "dategreen = 90\n",
    "datered = 76\n",
    "datenir = 92\n",
    "\n",
    "for subdir, dirs, files in os.walk(rasters_path):  # For loop that finds rasters according to the band\n",
    "    for file in files:\n",
    "        if file.endswith('band2.tif'): #\n",
    "            dateblue =  file[17:25]\n",
    "            blue = os.path.join(subdir,file)\n",
    "    \n",
    "        if file.endswith('band3.tif'):\n",
    "\n",
    "            dategreen = file[17:25]\n",
    "            green = os.path.join(subdir,file)\n",
    "        if file.endswith('band4.tif'):\n",
    "            datered = file[17:25]\n",
    "            red = os.path.join(subdir, file)\n",
    "        if file.endswith('band5.tif'):\n",
    "            datenir = file[17:25] \n",
    "            nir = os.path.join(subdir, file)\n",
    "        if dateblue == dategreen  and dategreen == datered and datered == datenir:\n",
    "            try:\n",
    "                blue_crop =  CropRaster(shapefile_path[0], blue)*0.0001\n",
    "                green_crop =  CropRaster(shapefile_path[0], green)*0.0001\n",
    "                red_crop =  CropRaster(shapefile_path[0], red)*0.0001\n",
    "                nir_crop =  CropRaster(shapefile_path[0], nir)*0.0001\n",
    "\n",
    "\n",
    "                NDVI_crop = IndexCalc(nir_crop, red_crop)\n",
    "                NDWI_crop = IndexCalc(green_crop, nir_crop)\n",
    "                if np.nanmean(blue_crop) != 0.0 and np.nanmean(NDVI_crop) != 0.0:\n",
    "                    rgb = np.dstack((red_crop, green_crop, blue_crop))\n",
    "                    better_rgb = exposure.rescale_intensity(rgb, in_range=(0, 0.25))\n",
    "                    cdf = allPixels1(blue_crop, green_crop, red_crop, nir_crop, NDVI_crop, NDWI_crop)\n",
    "\n",
    "                    img = cdf.iloc[:,:].values\n",
    "                    pred_class = Landsat8Classifier.predict(img)\n",
    "                    landclass = pred_class.reshape(blue_crop.shape)\n",
    "                    landclass = np.array(landclass, dtype = float)\n",
    "                    l_class3 = landclass == 3\n",
    "                    l_class3 = l_class3.astype(np.float)\n",
    "                    nir_crop = nir_crop*l_class3\n",
    "                    red_crop = red_crop*l_class3\n",
    "                    blue_crop = blue_crop*l_class3\n",
    "\n",
    "                    nir_crop1 = Final_Array_Cleaner(nir_crop)\n",
    "                    red_crop1 = Final_Array_Cleaner(red_crop)\n",
    "                    blue_crop1 = Final_Array_Cleaner(blue_crop)\n",
    "                    NDVIcrop1 = IndexCalc(nir_crop1, red_crop1)\n",
    "                    EVIcrop1 = IndexEVI(nir_crop1, red_crop1, blue_crop1)\n",
    "                    Ave_NDVI = np.nanmean(NDVIcrop1)\n",
    "                    Ave_EVI = np.nanmean(EVIcrop1)\n",
    "                    if not math.isnan(Ave_NDVI):\n",
    "                        WriteTofile(dateblue, shapefile_path, Ave_NDVI, Ave_EVI)\n",
    "                        print(dateblue, Ave_NDVI)\n",
    "\n",
    "\n",
    "    #                     classes = ['Clouds','Crops','Water']\n",
    "    #                     length = len(classes)\n",
    "    #                     fig = plt.figure(figsize=(15,15))\n",
    "    #                     cmap = plt.cm.get_cmap(\"Set1\", length)\n",
    "    #                     plt.imshow(landclass, cmap=cmap)\n",
    "    #                     ticks = np.arange(1, length + 1)\n",
    "    #                     colorbar = plt.colorbar(ticks = ticks, orientation=\"horizontal\")\n",
    "    #                     colorbar.set_ticklabels(classes)\n",
    "    #                     plt.savefig('Syngenta_2018/ClassifiedImage.png')\n",
    "    #                     plt.close(fig )\n",
    "\n",
    "                        fig = plt.figure(figsize = (20, 15))\n",
    "                        plt.rc('xtick', labelsize = 20)\n",
    "                        plt.rc('ytick', labelsize = 20)\n",
    "                        plt.subplot(221)\n",
    "                        plt.title('Landsat NDVI\\n', fontsize = 20 , fontweight = 'bold')\n",
    "                        plt.imshow(NDVIcrop1, cmap = plt.cm.nipy_spectral)\n",
    "                        plt.subplot(222)\n",
    "                        plt.title('True Color Image\\n', fontsize = 20, fontweight = 'bold')\n",
    "                        plt.imshow(better_rgb)\n",
    "                        plt.savefig(shapefile_path[0][:-4]+ '_' + dateblue +  '.png')\n",
    "                        plt.close(fig)\n",
    "            except:\n",
    "                pass\n",
    "\n",
    "\n",
    "            dateblue = 8\n",
    "            dategreen = 6\n",
    "            datered = 98\n",
    "            datenir = 90"
   ]
  },
  {
   "cell_type": "code",
   "execution_count": null,
   "metadata": {
    "scrolled": false
   },
   "outputs": [],
   "source": [
    "                                  #PLANETSCOPE IMAGE ANALYSIS\n",
    "for subdir, dirs, files in os.walk(rasters_path):\n",
    "    for file in files:\n",
    "        if file.endswith('RS.tif'):\n",
    "            file1 = file\n",
    "            filename = os.path.join(subdir, file1)\n",
    "            try:\n",
    "                date =  file1[0:4] + file1[4:6] + file1[6:8] \n",
    "                raster = rasterio.open(os.path.join(subdir, file1))\n",
    "                blue, green, red, nir = raster.read()\n",
    "                shapefile = shapefile.to_crs(crs = raster.crs.data)\n",
    "                extent_geojson = mapping(shapefile['geometry'][0])\n",
    "\n",
    "                raster_crop, crop_affine = mask(raster, shapes = [extent_geojson], crop = True)\n",
    "                raster_meta = raster.meta.copy()\n",
    "                raster_meta.update({'driver': 'GTiff', 'height':raster_crop.shape[1],\n",
    "                                    'width':raster_crop.shape[2], 'transform':crop_affine})\n",
    "                cr_ext = rasterio.transform.array_bounds(raster_meta['height'],\n",
    "                                                         raster_meta['width'], raster_meta['transform'])\n",
    "                bound_order = [0, 1, 2, 3]\n",
    "                cr_extent = [cr_ext[b] for b in bound_order]\n",
    "                bluecrop = raster_crop[0]*0.0001\n",
    "                greencrop = raster_crop[1]*0.0001\n",
    "                redcrop = raster_crop[2]*0.0001\n",
    "                nircrop = raster_crop[3]*0.0001\n",
    "                NDVIcrop = IndexCalc(nircrop, redcrop)\n",
    "                NDWIcrop = IndexCalc(greencrop, nircrop)\n",
    "                if np.nanmean(bluecrop) != 0.0 and np.nanmean(NDVIcrop) != 0.0:\n",
    "                    rgb = np.dstack((redcrop, greencrop, bluecrop))\n",
    "                    better_rgb = exposure.rescale_intensity(rgb, in_range=(0, 0.25))\n",
    "\n",
    "                    cdf = allPixels1(bluecrop, greencrop, redcrop, nircrop, NDVIcrop, NDWIcrop)\n",
    "                    img = cdf.iloc[:,:].values\n",
    "                    pred_class = PlanetscopeClassifier.predict(img)\n",
    "                    landclass = pred_class.reshape(bluecrop.shape)\n",
    "                    landclass = np.array(landclass, dtype = float)\n",
    "                    l_class3 = landclass == 2\n",
    "                    l_class3 = l_class3.astype(np.float)\n",
    "                    nir_crop = nircrop*l_class3\n",
    "                    red_crop = redcrop*l_class3\n",
    "                    blue_crop = bluecrop*l_class3\n",
    "\n",
    "                    nir_crop1 = Final_Array_Cleaner(nir_crop)\n",
    "                    red_crop1 = Final_Array_Cleaner(red_crop)\n",
    "                    blue_crop1 = Final_Array_Cleaner(blue_crop)\n",
    "                    NDVIcrop1 = IndexCalc(nir_crop1, red_crop1)\n",
    "                    EVIcrop1 = IndexEVI(nir_crop1, red_crop1, blue_crop1)\n",
    "                    Ave_NDVI = np.nanmean(NDVIcrop1)\n",
    "                    Ave_EVI = np.nanmean(EVIcrop1)\n",
    "                    if not math.isnan(Ave_NDVI):\n",
    "                        WriteTofile(date, shapefile_path, Ave_NDVI, Ave_EVI)\n",
    "                        print(date, Ave_EVI)\n",
    "\n",
    "\n",
    "\n",
    "#                         classes = ['No data','Data']\n",
    "#                         length = len(classes)\n",
    "#                         fig = plt.figure(figsize=(15,15))\n",
    "#                         plt.rc('xtick', labelsize = 25)\n",
    "#                         plt.rc('ytick', labelsize = 25)\n",
    "#                         cmap = plt.cm.get_cmap(\"Set1\", length)\n",
    "#                         plt.title('Pixel Classification\\n', fontsize = 30 , fontweight = 'bold')\n",
    "#                         plt.imshow(landclass, cmap=cmap)\n",
    "#                         ticks = np.arange(1, length + 1)\n",
    "#                         colorbar = plt.colorbar(ticks = ticks, orientation=\"horizontal\")\n",
    "#                         colorbar.set_ticklabels(classes)\n",
    "#                         plt.savefig(shapefile_path[0][:-4] +'Classified'+ '_' + date +  '.png')\n",
    "#                         plt.close(fig )\n",
    "\n",
    "                        fig = plt.figure(figsize = (20, 20))\n",
    "                        plt.rc('xtick', labelsize = 25)\n",
    "                        plt.rc('ytick', labelsize = 25)\n",
    "                        plt.subplot(221)\n",
    "                        plt.title('EVI Image\\n', fontsize = 30 , fontweight = 'bold')\n",
    "                        plt.imshow(EVIcrop1, cmap = plt.cm.nipy_spectral)\n",
    "                        #plt.colorbar(orientation = 'vertical', shrink = 0.7)\n",
    "                        plt.subplot(222)\n",
    "                        plt.title('True colour image\\n', fontsize = 30, fontweight = 'bold')\n",
    "                        plt.imshow(better_rgb)\n",
    "                        plt.savefig(shapefile_path[0][:-4]+ '_' + date +  '.png')\n",
    "                        plt.close(fig)\n",
    "            except:\n",
    "                pass"
   ]
  },
  {
   "cell_type": "code",
   "execution_count": null,
   "metadata": {},
   "outputs": [],
   "source": []
  },
  {
   "cell_type": "code",
   "execution_count": null,
   "metadata": {},
   "outputs": [],
   "source": []
  }
 ],
 "metadata": {
  "kernelspec": {
   "display_name": "Python 3",
   "language": "python",
   "name": "python3"
  },
  "language_info": {
   "codemirror_mode": {
    "name": "ipython",
    "version": 3
   },
   "file_extension": ".py",
   "mimetype": "text/x-python",
   "name": "python",
   "nbconvert_exporter": "python",
   "pygments_lexer": "ipython3",
   "version": "3.7.4"
  }
 },
 "nbformat": 4,
 "nbformat_minor": 2
}
