{
 "cells": [
  {
   "cell_type": "code",
   "execution_count": null,
   "metadata": {},
   "outputs": [],
   "source": [
    "import glob\n",
    "import rasterio\n",
    "import pandas as pd\n",
    "import numpy as np\n",
    "import matplotlib.pyplot as plt\n",
    "from rasterio.plot import show\n",
    "import gdal, ogr, os, osr\n",
    "from skimage import exposure\n",
    "import geopandas as gpd\n",
    "from rasterio.mask import mask\n",
    "\n",
    "# Importing modules for merging rasters to form a true colour image\n",
    "from rasterio.merge import merge\n",
    "from skimage import exposure\n",
    "\n",
    "# Importing Machine Learning modules for splitting splittng, training testing and classifying the data\n",
    "from sklearn.ensemble import RandomForestClassifier\n",
    "from sklearn.model_selection import train_test_split\n",
    "from sklearn.metrics import accuracy_score"
   ]
  },
  {
   "cell_type": "code",
   "execution_count": null,
   "metadata": {},
   "outputs": [],
   "source": [
    "ImgList = glob.glob('/home/emmanuel/Desktop/ML/LC081720712019031701T1-SC20191027162326/*band*tif')\n",
    "shapes = glob.glob('/home/emmanuel/Desktop/ML/Landsat8Shapes/*shp')\n",
    "ImgList\n",
    "#shapes"
   ]
  },
  {
   "cell_type": "code",
   "execution_count": null,
   "metadata": {},
   "outputs": [],
   "source": [
    "blue_path = ImgList[6]\n",
    "green_path = ImgList[4]\n",
    "red_path = ImgList[2]\n",
    "nir_path = ImgList[0]"
   ]
  },
  {
   "cell_type": "code",
   "execution_count": null,
   "metadata": {},
   "outputs": [],
   "source": [
    "blue_raster = rasterio.open(blue_path)\n",
    "green_raster = rasterio.open(green_path)\n",
    "red_raster = rasterio.open(red_path)\n",
    "nir_raster = rasterio.open(nir_path)"
   ]
  },
  {
   "cell_type": "code",
   "execution_count": null,
   "metadata": {},
   "outputs": [],
   "source": [
    "blue_array = blue_raster.read(1)*0.0001\n",
    "green_array = green_raster.read(1)*0.0001\n",
    "red_array = red_raster.read(1)*0.0001\n",
    "nir_array = nir_raster.read(1)*0.0001\n",
    "nir_array.max()"
   ]
  },
  {
   "cell_type": "code",
   "execution_count": null,
   "metadata": {},
   "outputs": [],
   "source": [
    "def Landsat8_Cleaner(array):\n",
    "    better_array = np.where((array <= 1.0) & (array >= 0), array, 0.0)\n",
    "    return better_array"
   ]
  },
  {
   "cell_type": "code",
   "execution_count": null,
   "metadata": {},
   "outputs": [],
   "source": [
    "cleaned_blue = Landsat8_Cleaner(blue_array)"
   ]
  },
  {
   "cell_type": "code",
   "execution_count": null,
   "metadata": {},
   "outputs": [],
   "source": [
    "cleaned_blue[2000:3000, 2000:3000].max()"
   ]
  },
  {
   "cell_type": "code",
   "execution_count": null,
   "metadata": {},
   "outputs": [],
   "source": [
    "plt.imshow(cleaned_blue)#.max()"
   ]
  },
  {
   "cell_type": "code",
   "execution_count": null,
   "metadata": {},
   "outputs": [],
   "source": [
    "cleaned_blue = Landsat8_Cleaner(blue_array)\n",
    "cleaned_green = Landsat8_Cleaner(green_array)\n",
    "cleaned_red = Landsat8_Cleaner(red_array)\n",
    "cleaned_nir = Landsat8_Cleaner(nir_array)\n",
    "print(green_array.max(), green_array.min(), np.nanmax(cleaned_green), np.nanmin(cleaned_green))\n",
    "plt.imshow(cleaned_blue)\n",
    "cleaned_red.max()"
   ]
  },
  {
   "cell_type": "code",
   "execution_count": null,
   "metadata": {},
   "outputs": [],
   "source": [
    "# Function that turns an array into a raster\n",
    "def array2raster(rasterfn,newRasterfn,array):\n",
    "    raster = gdal.Open(rasterfn)\n",
    "    geotransform = raster.GetGeoTransform()\n",
    "    originX = geotransform[0]\n",
    "    originY = geotransform[3]\n",
    "    pixelWidth = geotransform[1]\n",
    "    pixelHeight = geotransform[5]\n",
    "    cols = raster.RasterXSize\n",
    "    rows = raster.RasterYSize\n",
    "    driver = gdal.GetDriverByName(\"GTiff\")\n",
    "    outRaster = driver.Create(newRasterfn, cols, rows, 1, gdal.GDT_Float32)\n",
    "    outRaster.SetGeoTransform((originX, pixelWidth, 0, originY, 0, pixelHeight))\n",
    "    outband = outRaster.GetRasterBand(1)\n",
    "    outband.WriteArray(array)\n",
    "    outRasterSRS = osr.SpatialReference()\n",
    "    outRasterSRS.ImportFromWkt(raster.GetProjectionRef())\n",
    "    outRaster.SetProjection(outRasterSRS.ExportToWkt())\n",
    "    outband.FlushCache()"
   ]
  },
  {
   "cell_type": "code",
   "execution_count": null,
   "metadata": {},
   "outputs": [],
   "source": [
    "def IndexCalc(array1, array2):\n",
    "    np.seterr(divide = 'ignore', invalid = 'ignore')\n",
    "    Index = (array1 - array2)/(array1 + array2)\n",
    "    return Index"
   ]
  },
  {
   "cell_type": "code",
   "execution_count": null,
   "metadata": {},
   "outputs": [],
   "source": [
    "IndexCalc(cleaned_nir, cleaned_red)"
   ]
  },
  {
   "cell_type": "code",
   "execution_count": null,
   "metadata": {},
   "outputs": [],
   "source": [
    "def IndexCleaner(index):\n",
    "    #better_index = np.where((index <= 1) & (index >= -1), index, np.nan)\n",
    "    better_index1 = pd.DataFrame(index)\n",
    "    better_index2 = better_index1.replace(-0.0, 0.0)\n",
    "    better_index3 = np.array(better_index2)\n",
    "    return better_index3\n",
    "\n",
    "\n",
    "index1 = np.array([1, -1, 2, 0.9, -0.1, -8, -1, 0.4, 0.4, -0.0, 89])\n",
    "IndexCleaner(index1)"
   ]
  },
  {
   "cell_type": "code",
   "execution_count": null,
   "metadata": {},
   "outputs": [],
   "source": [
    "rasterpath = '/home/emmanuel/Desktop/ML/LC081720712019031701T1-SC20191027162326/LC08_L1TP_172071_20190317_20190325_01_T1_sr_band5.tif'"
   ]
  },
  {
   "cell_type": "code",
   "execution_count": null,
   "metadata": {},
   "outputs": [],
   "source": [
    "def CreatRasters(blue_array, green_array, red_array, nir_array, rasterpath):\n",
    "    array2raster(rasterpath, rasterpath[:-9] + 'B02.tif', blue_array)\n",
    "    array2raster(rasterpath, rasterpath[:-9] + 'B03.tif', green_array)\n",
    "    array2raster(rasterpath, rasterpath[:-9] + 'B04.tif', red_array)\n",
    "    array2raster(rasterpath, rasterpath[:-9] + 'B05.tif', nir_array)\n",
    "    \n",
    "    NDVI = IndexCalc(nir_array, red_array)\n",
    "    NDVI = IndexCleaner(NDVI)\n",
    "    array2raster(rasterpath, rasterpath[:-9] + 'NDVI.tif', NDVI)\n",
    "    \n",
    "    NDWI = IndexCalc(green_array, nir_array)\n",
    "    NDWI = IndexCleaner(NDWI)\n",
    "    array2raster(rasterpath, rasterpath[:-9] + 'NDWI.tif', NDWI)"
   ]
  },
  {
   "cell_type": "code",
   "execution_count": null,
   "metadata": {},
   "outputs": [],
   "source": [
    "CreatRasters(cleaned_blue, cleaned_green, cleaned_red, cleaned_nir, rasterpath)"
   ]
  },
  {
   "cell_type": "code",
   "execution_count": null,
   "metadata": {},
   "outputs": [],
   "source": [
    "blue_raster = rasterio.open(rasterpath[:-9] + 'B02.tif')\n",
    "green_raster = rasterio.open(rasterpath[:-9] + 'B03.tif')\n",
    "red_raster = rasterio.open(rasterpath[:-9] + 'B04.tif')\n",
    "nir_raster = rasterio.open(rasterpath[:-9] + 'B05.tif')\n",
    "NDVI_raster = rasterio.open(rasterpath[:-9] + 'NDVI.tif')\n",
    "NDVI_array = IndexCleaner(NDVI_raster.read(1))\n",
    "NDWI_raster = rasterio.open(rasterpath[:-9] + 'NDWI.tif')\n",
    "NDWI_array = IndexCleaner(NDWI_raster.read(1))"
   ]
  },
  {
   "cell_type": "code",
   "execution_count": null,
   "metadata": {},
   "outputs": [],
   "source": [
    "plt.figure(figsize = (15,15))\n",
    "show(nir_raster)"
   ]
  },
  {
   "cell_type": "code",
   "execution_count": null,
   "metadata": {},
   "outputs": [],
   "source": [
    "NDVI_array.min()"
   ]
  },
  {
   "cell_type": "code",
   "execution_count": null,
   "metadata": {},
   "outputs": [],
   "source": [
    "np.nanmin(NDVI_array)"
   ]
  },
  {
   "cell_type": "code",
   "execution_count": null,
   "metadata": {},
   "outputs": [],
   "source": [
    "# Get shape geometry in json format\n",
    "def getFeatures(gdf):\n",
    "    '''Function to parse features from GeoDataFrame in such a manner that rasterio can take them'''\n",
    "    import json\n",
    "    return [json.loads(gdf.to_json())['features'][0]['geometry']]"
   ]
  },
  {
   "cell_type": "code",
   "execution_count": null,
   "metadata": {},
   "outputs": [],
   "source": [
    "def getClasses(shp, blue, green, red, nir, NDVI, NDWI):\n",
    "    class_df = pd.DataFrame()\n",
    "    df_ls = []\n",
    "    geom = gpd.read_file(shp)\n",
    "    geom = geom.to_crs(crs = red.crs.data)\n",
    "    sa = np.arange(len(geom))\n",
    "    sb = np.arange(1, len(geom)+1)\n",
    "    for a, b in zip(sa, sb):\n",
    "        cord1 = getFeatures(geom.iloc[a:b,:])\n",
    "        out_blue, out_transform = mask(blue, cord1, crop = True)\n",
    "        out_green, out_transform1 = mask(green, cord1, crop = True)\n",
    "        out_red, out_transform2 = mask(red, cord1, crop = True)\n",
    "        out_nir, out_transform3 = mask(nir, cord1, crop = True)\n",
    "        out_ndvi, out_transform4 = mask(NDVI, cord1, crop = True)\n",
    "        out_ndwi, out_transform5 = mask(NDWI, cord1, crop = True)\n",
    "        \n",
    "        df_ls.append(pd.DataFrame({'Blue_Band': out_blue.ravel(),\n",
    "                                  'Green_Band': out_green.ravel(),\n",
    "                                  'Red_Band': out_red.ravel(),\n",
    "                                  'NIR_Band': out_nir.ravel(),\n",
    "                                  'NDVI_Band': out_ndvi.ravel(),\n",
    "                                  'NDWI_Band': out_ndwi.ravel(),\n",
    "                                  'Class': geom.class1[0]}))\n",
    "    class_df = pd.concat(df_ls, axis = 0)\n",
    "    class_df = class_df.replace(0.0, np.nan)\n",
    "    return class_df.dropna()"
   ]
  },
  {
   "cell_type": "code",
   "execution_count": null,
   "metadata": {},
   "outputs": [],
   "source": [
    "red_raster.read(1)[2000:3000, 2000:3000]"
   ]
  },
  {
   "cell_type": "code",
   "execution_count": null,
   "metadata": {},
   "outputs": [],
   "source": [
    "#===========================================================================================\n",
    "\n",
    "# Gettomg all the image pixels\n",
    "def allPixels(blue, green, red, nir, NDVI, NDWI):\n",
    "    all_df = pd.DataFrame()\n",
    "    df_ls = []\n",
    "    \n",
    "    df_ls.append(pd.DataFrame({'Blue_Band':blue.read(1)[5000:7000, 4000:6000].ravel(),\n",
    "                              'Green_Band':green.read(1)[5000:7000, 4000:6000].ravel(),\n",
    "                              'Red_Band':red.read(1)[5000:7000, 4000:6000].ravel(),\n",
    "                              'NIR_Band':nir.read(1)[5000:7000, 4000:6000].ravel(),\n",
    "                              'NDVI_Band':NDVI.read(1)[5000:7000, 4000:6000].ravel(),\n",
    "                              'NDWI_Band':NDWI.read(1)[5000:7000, 4000:6000].ravel()}))\n",
    "    all_df = pd.concat(df_ls, axis = 0)\n",
    "    return all_df\n",
    "\n",
    "#==========================================================================================="
   ]
  },
  {
   "cell_type": "code",
   "execution_count": null,
   "metadata": {},
   "outputs": [],
   "source": [
    "# For loop for getting pixel values and classes\n",
    "cls_df = pd.DataFrame()\n",
    "df_ls = []\n",
    "for s in shapes:\n",
    "    df_ls.append(getClasses(s, blue_raster, green_raster, red_raster, nir_raster, NDVI_raster, NDWI_raster))\n",
    "cls_df = pd.concat(df_ls, axis = 0)\n",
    "#==========================================================================================="
   ]
  },
  {
   "cell_type": "code",
   "execution_count": null,
   "metadata": {},
   "outputs": [],
   "source": [
    "#===========================================================================================\n",
    "# SPliting our data into training and testing sets\n",
    "X = cls_df.iloc[:,:6].values\n",
    "y = cls_df.iloc[:,6].values\n",
    "X_train1, X_test1, y_train1, y_test1 = train_test_split(X, y, test_size = 0.3, random_state = 5)\n",
    "\n",
    "clf = RandomForestClassifier(n_estimators = 500, max_depth = 20)\n",
    "clf.fit(X_train1, y_train1)\n",
    "y_pred = clf.predict(X_test1)\n",
    "#============================================================================================"
   ]
  },
  {
   "cell_type": "code",
   "execution_count": null,
   "metadata": {},
   "outputs": [],
   "source": [
    "import pickle\n",
    "filename = 'Landsat8_Classifier.sav'\n",
    "pickle.dump(clf, open(filename, 'wb'))"
   ]
  },
  {
   "cell_type": "code",
   "execution_count": null,
   "metadata": {},
   "outputs": [],
   "source": [
    "print(accuracy_score(y_test1, y_pred))"
   ]
  },
  {
   "cell_type": "code",
   "execution_count": null,
   "metadata": {},
   "outputs": [],
   "source": [
    "cdf = allPixels(blue_raster, green_raster, red_raster, nir_raster, NDVI_raster, NDWI_raster)\n",
    "img = cdf.iloc[:,:].values\n",
    "cdf"
   ]
  },
  {
   "cell_type": "code",
   "execution_count": null,
   "metadata": {},
   "outputs": [],
   "source": [
    "img[1:].min()"
   ]
  },
  {
   "cell_type": "code",
   "execution_count": null,
   "metadata": {},
   "outputs": [],
   "source": [
    "pred_class = clf.predict(img)"
   ]
  },
  {
   "cell_type": "code",
   "execution_count": null,
   "metadata": {},
   "outputs": [],
   "source": [
    "landclass = pred_class.reshape(2000,2000)"
   ]
  },
  {
   "cell_type": "code",
   "execution_count": null,
   "metadata": {},
   "outputs": [],
   "source": [
    "plt.figure(figsize=(15,15))\n",
    "plt.imshow(cleaned_red[5000:7000, 4000:6000])"
   ]
  },
  {
   "cell_type": "code",
   "execution_count": null,
   "metadata": {},
   "outputs": [],
   "source": [
    "landclass = np.array(landclass, dtype = float)\n",
    "classes = ['Clouds','Shadows','nodata']\n",
    "length = len(classes)\n",
    "plt.figure(figsize=(15,15))\n",
    "cmap = plt.cm.get_cmap(\"Set1\", length)\n",
    "plt.imshow(landclass, cmap=cmap)\n",
    "ticks = np.arange(1, length + 1)\n",
    "colorbar = plt.colorbar(ticks = ticks, orientation=\"horizontal\")\n",
    "#colorbar = plt.colorbar(ticks=ticks, orientation = \"horizontal\")\n",
    "colorbar.set_ticklabels(classes)\n",
    "plt.savefig('Classified1.png')"
   ]
  },
  {
   "cell_type": "code",
   "execution_count": null,
   "metadata": {},
   "outputs": [],
   "source": [
    "plt.imshow(landclass == 6)"
   ]
  },
  {
   "cell_type": "code",
   "execution_count": null,
   "metadata": {},
   "outputs": [],
   "source": [
    "\n",
    "NDVI_array = IndexCleaner(NDVI_array)\n",
    "colormap = plt.cm.nipy_spectral\n",
    "fig = plt.figure(figsize = (20,20))\n",
    "plt.rc('ytick', labelsize= 20)\n",
    "plt.rc('xtick', labelsize = 20)\n",
    "plt.title('Enhanced Vegetation Index of\\n Landsat-8 Image\\n', fontsize = 20, fontweight = 'bold')\n",
    "plt.imshow(NDVI_array, cmap = colormap)\n",
    "plt.colorbar(orientation = 'vertical', shrink = 0.67)\n",
    "plt.savefig('NDVI.png')"
   ]
  },
  {
   "cell_type": "code",
   "execution_count": null,
   "metadata": {},
   "outputs": [],
   "source": [
    "import numpy as np\n",
    "from sklearn.datasets import load_digits\n",
    "from sklearn.model_selection import train_test_split, cross_val_score\n",
    "from sklearn.neighbors import KNeighborsClassifier\n",
    "from sklearn.svm import SVC\n",
    "import matplotlib.pyplot as plt\n",
    "import seaborn as sns"
   ]
  },
  {
   "cell_type": "code",
   "execution_count": null,
   "metadata": {},
   "outputs": [],
   "source": [
    "sns.set(context = 'notebook', style = 'white', rc = {'figure.figsize':(14,10)})"
   ]
  },
  {
   "cell_type": "code",
   "execution_count": null,
   "metadata": {},
   "outputs": [],
   "source": [
    "digits = load_digits()"
   ]
  },
  {
   "cell_type": "code",
   "execution_count": null,
   "metadata": {},
   "outputs": [],
   "source": [
    "import umap"
   ]
  },
  {
   "cell_type": "code",
   "execution_count": null,
   "metadata": {},
   "outputs": [],
   "source": [
    "trans = umap.UMAP(n_neighbors = 5, random_state = 42)"
   ]
  }
 ],
 "metadata": {
  "kernelspec": {
   "display_name": "Python 3",
   "language": "python",
   "name": "python3"
  },
  "language_info": {
   "codemirror_mode": {
    "name": "ipython",
    "version": 3
   },
   "file_extension": ".py",
   "mimetype": "text/x-python",
   "name": "python",
   "nbconvert_exporter": "python",
   "pygments_lexer": "ipython3",
   "version": "3.7.4"
  }
 },
 "nbformat": 4,
 "nbformat_minor": 2
}
