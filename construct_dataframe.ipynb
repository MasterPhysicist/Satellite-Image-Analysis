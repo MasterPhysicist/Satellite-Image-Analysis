{
 "cells": [
  {
   "cell_type": "code",
   "execution_count": 55,
   "metadata": {},
   "outputs": [],
   "source": [
    "import glob\n",
    "import rasterio\n",
    "import numpy as np\n",
    "import matplotlib.pyplot as plt\n",
    "from rasterio.mask import mask\n",
    "from rasterio.plot import show\n",
    "from matplotlib import colors\n",
    "from skimage import exposure\n",
    "from sklearn.metrics import confusion_matrix\n",
    "import geopandas as gpd\n",
    "import pandas as pd"
   ]
  },
  {
   "cell_type": "code",
   "execution_count": 56,
   "metadata": {},
   "outputs": [
    {
     "data": {
      "text/plain": [
       "['./classes/class_name_Urban.shp',\n",
       " './classes/class_name_BareLand.shp',\n",
       " './classes/class_name_Farm.shp',\n",
       " './classes/class_name_Forest.shp',\n",
       " './classes/class_name_Water.shp',\n",
       " './classes/class_name_Cloud.shp']"
      ]
     },
     "execution_count": 56,
     "metadata": {},
     "output_type": "execute_result"
    }
   ],
   "source": [
    "class_label = glob.glob('./classes/*shp')\n",
    "class_label"
   ]
  },
  {
   "cell_type": "code",
   "execution_count": 57,
   "metadata": {},
   "outputs": [
    {
     "data": {
      "text/html": [
       "<div>\n",
       "<style scoped>\n",
       "    .dataframe tbody tr th:only-of-type {\n",
       "        vertical-align: middle;\n",
       "    }\n",
       "\n",
       "    .dataframe tbody tr th {\n",
       "        vertical-align: top;\n",
       "    }\n",
       "\n",
       "    .dataframe thead th {\n",
       "        text-align: right;\n",
       "    }\n",
       "</style>\n",
       "<table border=\"1\" class=\"dataframe\">\n",
       "  <thead>\n",
       "    <tr style=\"text-align: right;\">\n",
       "      <th></th>\n",
       "      <th>id</th>\n",
       "      <th>class_name</th>\n",
       "      <th>class1</th>\n",
       "      <th>geometry</th>\n",
       "    </tr>\n",
       "  </thead>\n",
       "  <tbody>\n",
       "    <tr>\n",
       "      <td>0</td>\n",
       "      <td>10</td>\n",
       "      <td>Urban</td>\n",
       "      <td>3</td>\n",
       "      <td>POLYGON ((277345.2154606701 -3756456.897802229...</td>\n",
       "    </tr>\n",
       "    <tr>\n",
       "      <td>1</td>\n",
       "      <td>11</td>\n",
       "      <td>Urban</td>\n",
       "      <td>3</td>\n",
       "      <td>POLYGON ((276196.4266609224 -3757782.791541938...</td>\n",
       "    </tr>\n",
       "    <tr>\n",
       "      <td>2</td>\n",
       "      <td>12</td>\n",
       "      <td>Urban</td>\n",
       "      <td>3</td>\n",
       "      <td>POLYGON ((356993.3755881815 -3724022.76068935,...</td>\n",
       "    </tr>\n",
       "    <tr>\n",
       "      <td>3</td>\n",
       "      <td>13</td>\n",
       "      <td>Urban</td>\n",
       "      <td>3</td>\n",
       "      <td>POLYGON ((275467.6637660824 -3761606.104266092...</td>\n",
       "    </tr>\n",
       "  </tbody>\n",
       "</table>\n",
       "</div>"
      ],
      "text/plain": [
       "   id class_name  class1                                           geometry\n",
       "0  10      Urban       3  POLYGON ((277345.2154606701 -3756456.897802229...\n",
       "1  11      Urban       3  POLYGON ((276196.4266609224 -3757782.791541938...\n",
       "2  12      Urban       3  POLYGON ((356993.3755881815 -3724022.76068935,...\n",
       "3  13      Urban       3  POLYGON ((275467.6637660824 -3761606.104266092..."
      ]
     },
     "execution_count": 57,
     "metadata": {},
     "output_type": "execute_result"
    }
   ],
   "source": [
    "building_shape = gpd.read_file(class_label[0])\n",
    "building_shape"
   ]
  },
  {
   "cell_type": "code",
   "execution_count": 58,
   "metadata": {},
   "outputs": [],
   "source": [
    "classes = pd.DataFrame({'Name':building_shape.class_name.values,'Class':building_shape.class1})\n",
    "\n"
   ]
  },
  {
   "cell_type": "code",
   "execution_count": 81,
   "metadata": {},
   "outputs": [],
   "source": [
    "def dir_location(date,band):\n",
    "    directory  = '/vault/users/zafiirah/BigDataAfrica2019/AGRI-PROJECT/*'+band+'*'+date+'*tif'\n",
    "    bands      = glob.glob(directory)\n",
    "    img        = rasterio.open(bands[0])\n",
    "    return img\n",
    "\n",
    "#Get shape geometry in json format\n",
    "def getFeatures(gdf):\n",
    "    \"\"\"Function to parse features from GeoDataFrame in such a manner that rasterio wants them\"\"\"\n",
    "    import json\n",
    "    return [json.loads(gdf.to_json())['features'][0]['geometry']]\n",
    "\n",
    "#Functing for getting classes\n",
    "def getClases(shp,date = '20141002'):\n",
    "    class_df = pd.DataFrame()\n",
    "    df_ls = []\n",
    "    \n",
    "    img_blue   = dir_location(date,band='blue')\n",
    "    img_green  = dir_location(date,band='green')\n",
    "    img_red    = dir_location(date,band='red')\n",
    "    img_nir    = dir_location(date,band='nir')\n",
    "\n",
    "\n",
    "    geom = gpd.read_file(shp)\n",
    "    geom = geom.to_crs(crs=img_red.crs.data)\n",
    "    sa   = np.arange(len(geom))\n",
    "    sb   = np.arange(1, len(geom)+1)\n",
    "    for a,b, in zip(sa, sb):\n",
    "        cord1 = getFeatures(geom.iloc[a:b,:])\n",
    "        out_blue, out_transform   = mask(img_blue, cord1, crop=True)\n",
    "        out_green, out_transform1 = mask(img_green, cord1, crop=True)\n",
    "        out_red, out_transform2   = mask(img_red, cord1, crop=True)\n",
    "        out_nir, out_transform3   = mask(img_nir, cord1, crop=True)\n",
    "\n",
    "        df_ls.append(pd.DataFrame({'Blue_Band':out_blue.ravel(),#*0.0001,\n",
    "                              'Green_Band':out_green.ravel(),#*0.0001,\n",
    "                              'Red_Band':out_red.ravel(),#*0.0001,\n",
    "                              'NIR_Band':out_nir.ravel(),#*0.0001,\n",
    "                              'Class':geom.class1[0]}))\n",
    "\n",
    "    class_df = pd.concat(df_ls, axis=0)\n",
    "    class_df = class_df.replace(-0.9999, np.nan)\n",
    "    return class_df.dropna()"
   ]
  },
  {
   "cell_type": "code",
   "execution_count": 95,
   "metadata": {},
   "outputs": [],
   "source": [
    "cls_df = pd.DataFrame()\n",
    "df_ls = []\n",
    "for s in class_label[0:len(class_label)-1]:\n",
    "    df_ls.append(getClases(s))\n",
    "    \n",
    "cls_df = pd.concat(df_ls, axis=0)"
   ]
  },
  {
   "cell_type": "code",
   "execution_count": 96,
   "metadata": {},
   "outputs": [
    {
     "data": {
      "text/html": [
       "<div>\n",
       "<style scoped>\n",
       "    .dataframe tbody tr th:only-of-type {\n",
       "        vertical-align: middle;\n",
       "    }\n",
       "\n",
       "    .dataframe tbody tr th {\n",
       "        vertical-align: top;\n",
       "    }\n",
       "\n",
       "    .dataframe thead th {\n",
       "        text-align: right;\n",
       "    }\n",
       "</style>\n",
       "<table border=\"1\" class=\"dataframe\">\n",
       "  <thead>\n",
       "    <tr style=\"text-align: right;\">\n",
       "      <th></th>\n",
       "      <th>Blue_Band</th>\n",
       "      <th>Green_Band</th>\n",
       "      <th>Red_Band</th>\n",
       "      <th>NIR_Band</th>\n",
       "    </tr>\n",
       "    <tr>\n",
       "      <th>Class</th>\n",
       "      <th></th>\n",
       "      <th></th>\n",
       "      <th></th>\n",
       "      <th></th>\n",
       "    </tr>\n",
       "  </thead>\n",
       "  <tbody>\n",
       "    <tr>\n",
       "      <td>2</td>\n",
       "      <td>998</td>\n",
       "      <td>998</td>\n",
       "      <td>998</td>\n",
       "      <td>998</td>\n",
       "    </tr>\n",
       "    <tr>\n",
       "      <td>3</td>\n",
       "      <td>787</td>\n",
       "      <td>787</td>\n",
       "      <td>787</td>\n",
       "      <td>787</td>\n",
       "    </tr>\n",
       "    <tr>\n",
       "      <td>4</td>\n",
       "      <td>2343</td>\n",
       "      <td>2343</td>\n",
       "      <td>2343</td>\n",
       "      <td>2343</td>\n",
       "    </tr>\n",
       "    <tr>\n",
       "      <td>5</td>\n",
       "      <td>1610</td>\n",
       "      <td>1610</td>\n",
       "      <td>1610</td>\n",
       "      <td>1610</td>\n",
       "    </tr>\n",
       "    <tr>\n",
       "      <td>6</td>\n",
       "      <td>1715</td>\n",
       "      <td>1715</td>\n",
       "      <td>1715</td>\n",
       "      <td>1715</td>\n",
       "    </tr>\n",
       "  </tbody>\n",
       "</table>\n",
       "</div>"
      ],
      "text/plain": [
       "       Blue_Band  Green_Band  Red_Band  NIR_Band\n",
       "Class                                           \n",
       "2            998         998       998       998\n",
       "3            787         787       787       787\n",
       "4           2343        2343      2343      2343\n",
       "5           1610        1610      1610      1610\n",
       "6           1715        1715      1715      1715"
      ]
     },
     "execution_count": 96,
     "metadata": {},
     "output_type": "execute_result"
    }
   ],
   "source": [
    "cls_df.groupby('Class').count()"
   ]
  },
  {
   "cell_type": "code",
   "execution_count": 97,
   "metadata": {},
   "outputs": [],
   "source": [
    "def allPixels(date):\n",
    "    all_df = pd.DataFrame()\n",
    "    df_ls = []\n",
    "    \n",
    "    img_blue   = dir_location(date,band='blue')\n",
    "    img_green  = dir_location(date,band='green')\n",
    "    img_red    = dir_location(date,band='red')\n",
    "    img_nir    = dir_location(date,band='nir')\n",
    "    \n",
    "    \n",
    "    df_ls.append(pd.DataFrame({'Blue_Band':img_blue.read(1)[2000:5000,1000:6000].ravel(),#*0.0001,\n",
    "                              'Green_Band':img_green.read(1)[2000:5000,1000:6000].ravel(),#*0.0001,\n",
    "                              'Red_Band':img_red.read(1)[2000:5000,1000:6000].ravel(),#*0.0001,\n",
    "                              'NIR_Band':img_nir.read(1)[2000:5000,1000:6000].ravel()}))#*0.0001}))\n",
    "    \n",
    "    all_df = pd.concat(df_ls, axis=0)\n",
    "    return all_df"
   ]
  },
  {
   "cell_type": "code",
   "execution_count": 98,
   "metadata": {},
   "outputs": [],
   "source": [
    "cdf = allPixels(date)"
   ]
  },
  {
   "cell_type": "code",
   "execution_count": 99,
   "metadata": {},
   "outputs": [],
   "source": [
    "cdf.to_csv('data.csv')"
   ]
  },
  {
   "cell_type": "code",
   "execution_count": 100,
   "metadata": {},
   "outputs": [
    {
     "data": {
      "text/html": [
       "<div>\n",
       "<style scoped>\n",
       "    .dataframe tbody tr th:only-of-type {\n",
       "        vertical-align: middle;\n",
       "    }\n",
       "\n",
       "    .dataframe tbody tr th {\n",
       "        vertical-align: top;\n",
       "    }\n",
       "\n",
       "    .dataframe thead th {\n",
       "        text-align: right;\n",
       "    }\n",
       "</style>\n",
       "<table border=\"1\" class=\"dataframe\">\n",
       "  <thead>\n",
       "    <tr style=\"text-align: right;\">\n",
       "      <th></th>\n",
       "      <th>Blue_Band</th>\n",
       "      <th>Green_Band</th>\n",
       "      <th>Red_Band</th>\n",
       "      <th>NIR_Band</th>\n",
       "    </tr>\n",
       "  </thead>\n",
       "  <tbody>\n",
       "    <tr>\n",
       "      <td>count</td>\n",
       "      <td>1.499958e+07</td>\n",
       "      <td>1.498299e+07</td>\n",
       "      <td>1.499986e+07</td>\n",
       "      <td>1.499976e+07</td>\n",
       "    </tr>\n",
       "    <tr>\n",
       "      <td>mean</td>\n",
       "      <td>7.439350e-02</td>\n",
       "      <td>4.472639e-02</td>\n",
       "      <td>8.813772e-02</td>\n",
       "      <td>2.348303e-01</td>\n",
       "    </tr>\n",
       "    <tr>\n",
       "      <td>std</td>\n",
       "      <td>3.772147e-02</td>\n",
       "      <td>3.004114e-02</td>\n",
       "      <td>5.092753e-02</td>\n",
       "      <td>1.014093e-01</td>\n",
       "    </tr>\n",
       "    <tr>\n",
       "      <td>min</td>\n",
       "      <td>1.000000e-04</td>\n",
       "      <td>1.000000e-04</td>\n",
       "      <td>1.000000e-04</td>\n",
       "      <td>1.000000e-04</td>\n",
       "    </tr>\n",
       "    <tr>\n",
       "      <td>25%</td>\n",
       "      <td>5.580000e-02</td>\n",
       "      <td>2.950000e-02</td>\n",
       "      <td>5.740000e-02</td>\n",
       "      <td>1.736000e-01</td>\n",
       "    </tr>\n",
       "    <tr>\n",
       "      <td>50%</td>\n",
       "      <td>7.110000e-02</td>\n",
       "      <td>4.030000e-02</td>\n",
       "      <td>8.030000e-02</td>\n",
       "      <td>2.479000e-01</td>\n",
       "    </tr>\n",
       "    <tr>\n",
       "      <td>75%</td>\n",
       "      <td>8.980000e-02</td>\n",
       "      <td>5.350000e-02</td>\n",
       "      <td>1.112000e-01</td>\n",
       "      <td>3.100000e-01</td>\n",
       "    </tr>\n",
       "    <tr>\n",
       "      <td>max</td>\n",
       "      <td>8.003000e-01</td>\n",
       "      <td>7.420000e-01</td>\n",
       "      <td>8.485000e-01</td>\n",
       "      <td>8.982000e-01</td>\n",
       "    </tr>\n",
       "  </tbody>\n",
       "</table>\n",
       "</div>"
      ],
      "text/plain": [
       "          Blue_Band    Green_Band      Red_Band      NIR_Band\n",
       "count  1.499958e+07  1.498299e+07  1.499986e+07  1.499976e+07\n",
       "mean   7.439350e-02  4.472639e-02  8.813772e-02  2.348303e-01\n",
       "std    3.772147e-02  3.004114e-02  5.092753e-02  1.014093e-01\n",
       "min    1.000000e-04  1.000000e-04  1.000000e-04  1.000000e-04\n",
       "25%    5.580000e-02  2.950000e-02  5.740000e-02  1.736000e-01\n",
       "50%    7.110000e-02  4.030000e-02  8.030000e-02  2.479000e-01\n",
       "75%    8.980000e-02  5.350000e-02  1.112000e-01  3.100000e-01\n",
       "max    8.003000e-01  7.420000e-01  8.485000e-01  8.982000e-01"
      ]
     },
     "execution_count": 100,
     "metadata": {},
     "output_type": "execute_result"
    }
   ],
   "source": [
    "cdf.describe()"
   ]
  },
  {
   "cell_type": "code",
   "execution_count": null,
   "metadata": {},
   "outputs": [],
   "source": [
    "data =  pd.read"
   ]
  }
 ],
 "metadata": {
  "kernelspec": {
   "display_name": "Python 3",
   "language": "python",
   "name": "python3"
  },
  "language_info": {
   "codemirror_mode": {
    "name": "ipython",
    "version": 3
   },
   "file_extension": ".py",
   "mimetype": "text/x-python",
   "name": "python",
   "nbconvert_exporter": "python",
   "pygments_lexer": "ipython3",
   "version": "3.7.3"
  }
 },
 "nbformat": 4,
 "nbformat_minor": 4
}
